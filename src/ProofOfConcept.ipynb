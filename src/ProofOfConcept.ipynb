{
 "cells": [
  {
   "cell_type": "code",
   "execution_count": 1,
   "metadata": {
    "collapsed": false
   },
   "outputs": [
    {
     "data": {
      "text/html": [
       "<table class=\"data-frame\"><tr><th></th><th>a</th><th>b</th></tr><tr><th>1</th><td>6</td><td>5.133841397340352</td></tr><tr><th>2</th><td>6</td><td>6.734434057824634</td></tr><tr><th>3</th><td>1</td><td>0.8090634427076138</td></tr><tr><th>4</th><td>9</td><td>7.486098650858125</td></tr><tr><th>5</th><td>8</td><td>8.811688340090578</td></tr><tr><th>6</th><td>10</td><td>10.305262599319663</td></tr><tr><th>7</th><td>10</td><td>10.625304521085047</td></tr><tr><th>8</th><td>7</td><td>7.892502615179368</td></tr><tr><th>9</th><td>9</td><td>9.60751920734011</td></tr><tr><th>10</th><td>2</td><td>4.330350596660198</td></tr><tr><th>11</th><td>4</td><td>3.7166368411594988</td></tr><tr><th>12</th><td>2</td><td>1.5953556285621666</td></tr><tr><th>13</th><td>8</td><td>8.595929151600762</td></tr><tr><th>14</th><td>1</td><td>0.7475558374328256</td></tr><tr><th>15</th><td>3</td><td>3.5210628054684276</td></tr><tr><th>16</th><td>3</td><td>2.8277089475965207</td></tr><tr><th>17</th><td>8</td><td>8.803447635332454</td></tr><tr><th>18</th><td>10</td><td>10.351392848620577</td></tr><tr><th>19</th><td>1</td><td>1.7306420717165398</td></tr><tr><th>20</th><td>9</td><td>8.044475917091214</td></tr><tr><th>21</th><td>4</td><td>3.793028565364257</td></tr><tr><th>22</th><td>10</td><td>9.317038994647161</td></tr><tr><th>23</th><td>10</td><td>9.89328948320478</td></tr><tr><th>24</th><td>6</td><td>5.756912967938908</td></tr><tr><th>25</th><td>9</td><td>9.615934253137006</td></tr><tr><th>26</th><td>8</td><td>10.284658234098526</td></tr><tr><th>27</th><td>7</td><td>9.306823147425598</td></tr><tr><th>28</th><td>5</td><td>5.2995277815153985</td></tr><tr><th>29</th><td>2</td><td>2.2827747114595445</td></tr><tr><th>30</th><td>5</td><td>4.9890449989336</td></tr><tr><th>&vellip;</th><td>&vellip;</td><td>&vellip;</td></tr></table>"
      ],
      "text/plain": [
       "1000x2 DataFrames.DataFrame\n",
       "│ Row  │ a  │ b         │\n",
       "┝━━━━━━┿━━━━┿━━━━━━━━━━━┥\n",
       "│ 1    │ 6  │ 5.13384   │\n",
       "│ 2    │ 6  │ 6.73443   │\n",
       "│ 3    │ 1  │ 0.809063  │\n",
       "│ 4    │ 9  │ 7.4861    │\n",
       "│ 5    │ 8  │ 8.81169   │\n",
       "│ 6    │ 10 │ 10.3053   │\n",
       "│ 7    │ 10 │ 10.6253   │\n",
       "│ 8    │ 7  │ 7.8925    │\n",
       "│ 9    │ 9  │ 9.60752   │\n",
       "│ 10   │ 2  │ 4.33035   │\n",
       "│ 11   │ 4  │ 3.71664   │\n",
       "⋮\n",
       "│ 989  │ 2  │ 1.9944    │\n",
       "│ 990  │ 1  │ 0.0104803 │\n",
       "│ 991  │ 6  │ 6.60578   │\n",
       "│ 992  │ 6  │ 7.49413   │\n",
       "│ 993  │ 9  │ 6.38848   │\n",
       "│ 994  │ 2  │ 2.99165   │\n",
       "│ 995  │ 6  │ 5.72272   │\n",
       "│ 996  │ 10 │ 9.87483   │\n",
       "│ 997  │ 4  │ 3.78654   │\n",
       "│ 998  │ 6  │ 4.16935   │\n",
       "│ 999  │ 6  │ 6.01559   │\n",
       "│ 1000 │ 9  │ 10.6839   │"
      ]
     },
     "execution_count": 1,
     "metadata": {},
     "output_type": "execute_result"
    }
   ],
   "source": [
    "include(\"DC.jl\")\n",
    "df = generate_test_df(1000)"
   ]
  },
  {
   "cell_type": "code",
   "execution_count": null,
   "metadata": {
    "collapsed": false
   },
   "outputs": [],
   "source": [
    "dcout = DCOut(df)"
   ]
  },
  {
   "cell_type": "code",
   "execution_count": null,
   "metadata": {
    "collapsed": true
   },
   "outputs": [],
   "source": []
  }
 ],
 "metadata": {
  "kernelspec": {
   "display_name": "Julia 0.4.1",
   "language": "julia",
   "name": "julia-0.4"
  },
  "language_info": {
   "file_extension": ".jl",
   "mimetype": "application/julia",
   "name": "julia",
   "version": "0.4.1"
  }
 },
 "nbformat": 4,
 "nbformat_minor": 0
}
