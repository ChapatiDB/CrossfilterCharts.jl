{
 "cells": [
  {
   "cell_type": "code",
   "execution_count": 1,
   "metadata": {
    "collapsed": false
   },
   "outputs": [],
   "source": [
    "using RDatasets\n",
    "iris = dataset(\"datasets\", \"iris\");"
   ]
  },
  {
   "cell_type": "code",
   "execution_count": 2,
   "metadata": {
    "collapsed": false
   },
   "outputs": [
    {
     "data": {
      "text/html": [
       "<iframe src=\"test.htm\" width=\"975\" height=\"500\"></iframe>"
      ],
      "text/plain": [
       "DC.DCOut(150×5 DataFrames.DataFrame\n",
       "│ Row │ SepalLength │ SepalWidth │ PetalLength │ PetalWidth │ Species     │\n",
       "├─────┼─────────────┼────────────┼─────────────┼────────────┼─────────────┤\n",
       "│ 1   │ 5.1         │ 3.5        │ 1.4         │ 0.2        │ \"setosa\"    │\n",
       "│ 2   │ 4.9         │ 3.0        │ 1.4         │ 0.2        │ \"setosa\"    │\n",
       "│ 3   │ 4.7         │ 3.2        │ 1.3         │ 0.2        │ \"setosa\"    │\n",
       "│ 4   │ 4.6         │ 3.1        │ 1.5         │ 0.2        │ \"setosa\"    │\n",
       "│ 5   │ 5.0         │ 3.6        │ 1.4         │ 0.2        │ \"setosa\"    │\n",
       "│ 6   │ 5.4         │ 3.9        │ 1.7         │ 0.4        │ \"setosa\"    │\n",
       "│ 7   │ 4.6         │ 3.4        │ 1.4         │ 0.3        │ \"setosa\"    │\n",
       "│ 8   │ 5.0         │ 3.4        │ 1.5         │ 0.2        │ \"setosa\"    │\n",
       "│ 9   │ 4.4         │ 2.9        │ 1.4         │ 0.2        │ \"setosa\"    │\n",
       "│ 10  │ 4.9         │ 3.1        │ 1.5         │ 0.1        │ \"setosa\"    │\n",
       "│ 11  │ 5.4         │ 3.7        │ 1.5         │ 0.2        │ \"setosa\"    │\n",
       "⋮\n",
       "│ 139 │ 6.0         │ 3.0        │ 4.8         │ 1.8        │ \"virginica\" │\n",
       "│ 140 │ 6.9         │ 3.1        │ 5.4         │ 2.1        │ \"virginica\" │\n",
       "│ 141 │ 6.7         │ 3.1        │ 5.6         │ 2.4        │ \"virginica\" │\n",
       "│ 142 │ 6.9         │ 3.1        │ 5.1         │ 2.3        │ \"virginica\" │\n",
       "│ 143 │ 5.8         │ 2.7        │ 5.1         │ 1.9        │ \"virginica\" │\n",
       "│ 144 │ 6.8         │ 3.2        │ 5.9         │ 2.3        │ \"virginica\" │\n",
       "│ 145 │ 6.7         │ 3.3        │ 5.7         │ 2.5        │ \"virginica\" │\n",
       "│ 146 │ 6.7         │ 3.0        │ 5.2         │ 2.3        │ \"virginica\" │\n",
       "│ 147 │ 6.3         │ 2.5        │ 5.0         │ 1.9        │ \"virginica\" │\n",
       "│ 148 │ 6.5         │ 3.0        │ 5.2         │ 2.0        │ \"virginica\" │\n",
       "│ 149 │ 6.2         │ 3.4        │ 5.4         │ 2.3        │ \"virginica\" │\n",
       "│ 150 │ 5.9         │ 3.0        │ 5.1         │ 1.8        │ \"virginica\" │,[DC.Dimension(:SepalLength,\"function(d){return Math.round(d.SepalLength * 2)/2; }\"),DC.Dimension(:SepalWidth,\"function(d){return Math.round(d.SepalWidth * 2)/2; }\"),DC.Dimension(:PetalLength,\"function(d){return Math.round(d.PetalLength * 2)/2; }\"),DC.Dimension(:PetalWidth,\"function(d){return Math.round(d.PetalWidth * 2)/2; }\"),DC.Dimension(:Species,\"function(d){return d.Species; }\")],[DC.Group(DC.Dimension(:SepalLength,\"function(d){return Math.round(d.SepalLength * 2)/2; }\"),\"SepalLength_sum\",\"reduceSum(function(d){ return d.SepalLength; })\"),DC.Group(DC.Dimension(:SepalWidth,\"function(d){return Math.round(d.SepalWidth * 2)/2; }\"),\"SepalWidth_sum\",\"reduceSum(function(d){ return d.SepalWidth; })\"),DC.Group(DC.Dimension(:PetalLength,\"function(d){return Math.round(d.PetalLength * 2)/2; }\"),\"PetalLength_sum\",\"reduceSum(function(d){ return d.PetalLength; })\"),DC.Group(DC.Dimension(:PetalWidth,\"function(d){return Math.round(d.PetalWidth * 2)/2; }\"),\"PetalWidth_sum\",\"reduceSum(function(d){ return d.PetalWidth; })\"),DC.Group(DC.Dimension(:Species,\"function(d){return d.Species; }\"),\"Species_count\",\"reduceCount()\")],[DC.DCChart(DC.Group(DC.Dimension(:SepalLength,\"function(d){return Math.round(d.SepalLength * 2)/2; }\"),\"SepalLength_sum\",\"reduceSum(function(d){ return d.SepalLength; })\"),DC.ChartType(\"barChart\",DC.Attribute[DC.Attribute{Bool}(:centerBar,Nullable(true)),DC.Attribute{Float64}(:gap,Nullable{Float64}())],[DC.ChartType(\"NONE\",DC.Attribute[DC.Attribute{Tuple{Float64,Float64}}(:zoomScale,Nullable{Tuple{Float64,Float64}}()),DC.Attribute{Bool}(:zoomOutRestrict,Nullable{Bool}()),DC.Attribute{Bool}(:mouseZoomable,Nullable{Bool}()),DC.Attribute{ASCIIString}(:x,Nullable(\"d3.scale.linear().domain([4,8])\")),DC.Attribute{ASCIIString}(:xUnits,Nullable(\"dc.units.fp.precision(.5)\")),DC.Attribute{ASCIIString}(:xAxis,Nullable{ASCIIString}()),DC.Attribute{Bool}(:elasticX,Nullable{Bool}()),DC.Attribute{ASCIIString}(:xAxisPadding,Nullable{ASCIIString}()),DC.Attribute{Float64}(:y,Nullable{Float64}()),DC.Attribute{ASCIIString}(:yAxis,Nullable{ASCIIString}()),DC.Attribute{Float64}(:elasticY,Nullable{Float64}()),DC.Attribute{Bool}(:renderHorizontalGridLines,Nullable{Bool}()),DC.Attribute{Bool}(:renderVerticalGridLines,Nullable{Bool}()),DC.Attribute{Union{ASCIIString,Int64}}(:yAxisPadding,Nullable{Union{ASCIIString,Int64}}()),DC.Attribute{ASCIIString}(:round,Nullable{ASCIIString}())],[DC.ChartType(\"NONE\",DC.Attribute[DC.Attribute{Float64}(:width,Nullable(250.0)),DC.Attribute{Float64}(:height,Nullable(200.0))],DC.ChartType[]),DC.ChartType(\"NONE\",DC.Attribute[DC.Attribute{ASCIIString}(:colors,Nullable{ASCIIString}()),DC.Attribute{ASCIIString}(:colorAccessor,Nullable{ASCIIString}()),DC.Attribute{Int64}(:colorDomain,Nullable{Int64}())],DC.ChartType[])])]),\"Chart for SepalLength\",\"chart_264991\"),DC.DCChart(DC.Group(DC.Dimension(:SepalWidth,\"function(d){return Math.round(d.SepalWidth * 2)/2; }\"),\"SepalWidth_sum\",\"reduceSum(function(d){ return d.SepalWidth; })\"),DC.ChartType(\"barChart\",DC.Attribute[DC.Attribute{Bool}(:centerBar,Nullable(true)),DC.Attribute{Float64}(:gap,Nullable{Float64}())],[DC.ChartType(\"NONE\",DC.Attribute[DC.Attribute{Tuple{Float64,Float64}}(:zoomScale,Nullable{Tuple{Float64,Float64}}()),DC.Attribute{Bool}(:zoomOutRestrict,Nullable{Bool}()),DC.Attribute{Bool}(:mouseZoomable,Nullable{Bool}()),DC.Attribute{ASCIIString}(:x,Nullable(\"d3.scale.linear().domain([2,5])\")),DC.Attribute{ASCIIString}(:xUnits,Nullable(\"dc.units.fp.precision(.5)\")),DC.Attribute{ASCIIString}(:xAxis,Nullable{ASCIIString}()),DC.Attribute{Bool}(:elasticX,Nullable{Bool}()),DC.Attribute{ASCIIString}(:xAxisPadding,Nullable{ASCIIString}()),DC.Attribute{Float64}(:y,Nullable{Float64}()),DC.Attribute{ASCIIString}(:yAxis,Nullable{ASCIIString}()),DC.Attribute{Float64}(:elasticY,Nullable{Float64}()),DC.Attribute{Bool}(:renderHorizontalGridLines,Nullable{Bool}()),DC.Attribute{Bool}(:renderVerticalGridLines,Nullable{Bool}()),DC.Attribute{Union{ASCIIString,Int64}}(:yAxisPadding,Nullable{Union{ASCIIString,Int64}}()),DC.Attribute{ASCIIString}(:round,Nullable{ASCIIString}())],[DC.ChartType(\"NONE\",DC.Attribute[DC.Attribute{Float64}(:width,Nullable(250.0)),DC.Attribute{Float64}(:height,Nullable(200.0))],DC.ChartType[]),DC.ChartType(\"NONE\",DC.Attribute[DC.Attribute{ASCIIString}(:colors,Nullable{ASCIIString}()),DC.Attribute{ASCIIString}(:colorAccessor,Nullable{ASCIIString}()),DC.Attribute{Int64}(:colorDomain,Nullable{Int64}())],DC.ChartType[])])]),\"Chart for SepalWidth\",\"chart_713574\"),DC.DCChart(DC.Group(DC.Dimension(:PetalLength,\"function(d){return Math.round(d.PetalLength * 2)/2; }\"),\"PetalLength_sum\",\"reduceSum(function(d){ return d.PetalLength; })\"),DC.ChartType(\"barChart\",DC.Attribute[DC.Attribute{Bool}(:centerBar,Nullable(true)),DC.Attribute{Float64}(:gap,Nullable{Float64}())],[DC.ChartType(\"NONE\",DC.Attribute[DC.Attribute{Tuple{Float64,Float64}}(:zoomScale,Nullable{Tuple{Float64,Float64}}()),DC.Attribute{Bool}(:zoomOutRestrict,Nullable{Bool}()),DC.Attribute{Bool}(:mouseZoomable,Nullable{Bool}()),DC.Attribute{ASCIIString}(:x,Nullable(\"d3.scale.linear().domain([1,7])\")),DC.Attribute{ASCIIString}(:xUnits,Nullable(\"dc.units.fp.precision(.5)\")),DC.Attribute{ASCIIString}(:xAxis,Nullable{ASCIIString}()),DC.Attribute{Bool}(:elasticX,Nullable{Bool}()),DC.Attribute{ASCIIString}(:xAxisPadding,Nullable{ASCIIString}()),DC.Attribute{Float64}(:y,Nullable{Float64}()),DC.Attribute{ASCIIString}(:yAxis,Nullable{ASCIIString}()),DC.Attribute{Float64}(:elasticY,Nullable{Float64}()),DC.Attribute{Bool}(:renderHorizontalGridLines,Nullable{Bool}()),DC.Attribute{Bool}(:renderVerticalGridLines,Nullable{Bool}()),DC.Attribute{Union{ASCIIString,Int64}}(:yAxisPadding,Nullable{Union{ASCIIString,Int64}}()),DC.Attribute{ASCIIString}(:round,Nullable{ASCIIString}())],[DC.ChartType(\"NONE\",DC.Attribute[DC.Attribute{Float64}(:width,Nullable(250.0)),DC.Attribute{Float64}(:height,Nullable(200.0))],DC.ChartType[]),DC.ChartType(\"NONE\",DC.Attribute[DC.Attribute{ASCIIString}(:colors,Nullable{ASCIIString}()),DC.Attribute{ASCIIString}(:colorAccessor,Nullable{ASCIIString}()),DC.Attribute{Int64}(:colorDomain,Nullable{Int64}())],DC.ChartType[])])]),\"Chart for PetalLength\",\"chart_092877\"),DC.DCChart(DC.Group(DC.Dimension(:PetalWidth,\"function(d){return Math.round(d.PetalWidth * 2)/2; }\"),\"PetalWidth_sum\",\"reduceSum(function(d){ return d.PetalWidth; })\"),DC.ChartType(\"barChart\",DC.Attribute[DC.Attribute{Bool}(:centerBar,Nullable(true)),DC.Attribute{Float64}(:gap,Nullable{Float64}())],[DC.ChartType(\"NONE\",DC.Attribute[DC.Attribute{Tuple{Float64,Float64}}(:zoomScale,Nullable{Tuple{Float64,Float64}}()),DC.Attribute{Bool}(:zoomOutRestrict,Nullable{Bool}()),DC.Attribute{Bool}(:mouseZoomable,Nullable{Bool}()),DC.Attribute{ASCIIString}(:x,Nullable(\"d3.scale.linear().domain([0,3])\")),DC.Attribute{ASCIIString}(:xUnits,Nullable(\"dc.units.fp.precision(.5)\")),DC.Attribute{ASCIIString}(:xAxis,Nullable{ASCIIString}()),DC.Attribute{Bool}(:elasticX,Nullable{Bool}()),DC.Attribute{ASCIIString}(:xAxisPadding,Nullable{ASCIIString}()),DC.Attribute{Float64}(:y,Nullable{Float64}()),DC.Attribute{ASCIIString}(:yAxis,Nullable{ASCIIString}()),DC.Attribute{Float64}(:elasticY,Nullable{Float64}()),DC.Attribute{Bool}(:renderHorizontalGridLines,Nullable{Bool}()),DC.Attribute{Bool}(:renderVerticalGridLines,Nullable{Bool}()),DC.Attribute{Union{ASCIIString,Int64}}(:yAxisPadding,Nullable{Union{ASCIIString,Int64}}()),DC.Attribute{ASCIIString}(:round,Nullable{ASCIIString}())],[DC.ChartType(\"NONE\",DC.Attribute[DC.Attribute{Float64}(:width,Nullable(250.0)),DC.Attribute{Float64}(:height,Nullable(200.0))],DC.ChartType[]),DC.ChartType(\"NONE\",DC.Attribute[DC.Attribute{ASCIIString}(:colors,Nullable{ASCIIString}()),DC.Attribute{ASCIIString}(:colorAccessor,Nullable{ASCIIString}()),DC.Attribute{Int64}(:colorDomain,Nullable{Int64}())],DC.ChartType[])])]),\"Chart for PetalWidth\",\"chart_115982\"),DC.DCChart(DC.Group(DC.Dimension(:Species,\"function(d){return d.Species; }\"),\"Species_count\",\"reduceCount()\"),DC.ChartType(\"pieChart\",DC.Attribute[DC.Attribute{Int64}(:slicesCap,Nullable{Int64}()),DC.Attribute{Float64}(:innerRadius,Nullable{Float64}()),DC.Attribute{Float64}(:radius,Nullable{Float64}()),DC.Attribute{Float64}(:cx,Nullable{Float64}()),DC.Attribute{Float64}(:cy,Nullable{Float64}()),DC.Attribute{Float64}(:minAngleForLabel,Nullable{Float64}())],[DC.ChartType(\"NONE\",DC.Attribute[DC.Attribute{ASCIIString}(:colors,Nullable{ASCIIString}()),DC.Attribute{ASCIIString}(:colorAccessor,Nullable{ASCIIString}()),DC.Attribute{Int64}(:colorDomain,Nullable{Int64}())],DC.ChartType[]),DC.ChartType(\"NONE\",DC.Attribute[DC.Attribute{Float64}(:width,Nullable(250.0)),DC.Attribute{Float64}(:height,Nullable(200.0))],DC.ChartType[])]),\"Chart for Species\",\"chart_341517\")])"
      ]
     },
     "execution_count": 2,
     "metadata": {},
     "output_type": "execute_result"
    }
   ],
   "source": [
    "include(\"DC.jl\")\n",
    "using DC\n",
    "dcout = dc(iris)"
   ]
  },
  {
   "cell_type": "code",
   "execution_count": null,
   "metadata": {
    "collapsed": true
   },
   "outputs": [],
   "source": []
  }
 ],
 "metadata": {
  "kernelspec": {
   "display_name": "Julia 0.4.5",
   "language": "julia",
   "name": "julia-0.4"
  },
  "language_info": {
   "file_extension": ".jl",
   "mimetype": "application/julia",
   "name": "julia",
   "version": "0.4.5"
  }
 },
 "nbformat": 4,
 "nbformat_minor": 0
}
