{
 "cells": [
  {
   "cell_type": "code",
   "execution_count": 35,
   "metadata": {
    "collapsed": false
   },
   "outputs": [
    {
     "data": {
      "text/html": [
       "<table class=\"data-frame\"><tr><th></th><th>a</th><th>b</th><th>c</th></tr><tr><th>1</th><td>1</td><td>1.0834619247671031</td><td>c</td></tr><tr><th>2</th><td>3</td><td>2.161417473315452</td><td>a</td></tr><tr><th>3</th><td>4</td><td>4.395894195764084</td><td>a</td></tr><tr><th>4</th><td>3</td><td>1.509966205994548</td><td>c</td></tr><tr><th>5</th><td>1</td><td>2.0395189079850864</td><td>a</td></tr><tr><th>6</th><td>1</td><td>0.31926667684331655</td><td>d</td></tr><tr><th>7</th><td>3</td><td>4.7315183406403545</td><td>a</td></tr><tr><th>8</th><td>3</td><td>2.238728518305634</td><td>a</td></tr><tr><th>9</th><td>1</td><td>0.6923852792854839</td><td>c</td></tr><tr><th>10</th><td>2</td><td>1.251057816346349</td><td>d</td></tr><tr><th>11</th><td>4</td><td>2.7334904832138607</td><td>a</td></tr><tr><th>12</th><td>2</td><td>3.947169241481319</td><td>b</td></tr><tr><th>13</th><td>4</td><td>2.9557697301882584</td><td>b</td></tr><tr><th>14</th><td>4</td><td>5.018778605215035</td><td>b</td></tr><tr><th>15</th><td>1</td><td>0.2447464488420935</td><td>c</td></tr><tr><th>16</th><td>1</td><td>1.0138705630293585</td><td>c</td></tr><tr><th>17</th><td>3</td><td>2.3461087463486905</td><td>b</td></tr><tr><th>18</th><td>2</td><td>0.7634796318659194</td><td>c</td></tr><tr><th>19</th><td>3</td><td>3.0236249616473114</td><td>a</td></tr><tr><th>20</th><td>3</td><td>4.771625751310807</td><td>b</td></tr><tr><th>21</th><td>2</td><td>1.96052515369166</td><td>c</td></tr><tr><th>22</th><td>3</td><td>3.1782333420480744</td><td>a</td></tr><tr><th>23</th><td>4</td><td>4.839528755766571</td><td>b</td></tr><tr><th>24</th><td>3</td><td>3.351699763119692</td><td>a</td></tr><tr><th>25</th><td>1</td><td>-0.49124353892224426</td><td>c</td></tr><tr><th>26</th><td>4</td><td>3.430036624147334</td><td>a</td></tr><tr><th>27</th><td>2</td><td>3.8794888434592263</td><td>b</td></tr><tr><th>28</th><td>3</td><td>2.4417881750781394</td><td>b</td></tr><tr><th>29</th><td>3</td><td>4.32500524750997</td><td>b</td></tr><tr><th>30</th><td>3</td><td>3.242703728816751</td><td>a</td></tr><tr><th>&vellip;</th><td>&vellip;</td><td>&vellip;</td><td>&vellip;</td></tr></table>"
      ],
      "text/plain": [
       "1000x3 DataFrames.DataFrame\n",
       "│ Row  │ a │ b         │ c   │\n",
       "┝━━━━━━┿━━━┿━━━━━━━━━━━┿━━━━━┥\n",
       "│ 1    │ 1 │ 1.08346   │ \"c\" │\n",
       "│ 2    │ 3 │ 2.16142   │ \"a\" │\n",
       "│ 3    │ 4 │ 4.39589   │ \"a\" │\n",
       "│ 4    │ 3 │ 1.50997   │ \"c\" │\n",
       "│ 5    │ 1 │ 2.03952   │ \"a\" │\n",
       "│ 6    │ 1 │ 0.319267  │ \"d\" │\n",
       "│ 7    │ 3 │ 4.73152   │ \"a\" │\n",
       "│ 8    │ 3 │ 2.23873   │ \"a\" │\n",
       "│ 9    │ 1 │ 0.692385  │ \"c\" │\n",
       "│ 10   │ 2 │ 1.25106   │ \"d\" │\n",
       "│ 11   │ 4 │ 2.73349   │ \"a\" │\n",
       "⋮\n",
       "│ 989  │ 1 │ -0.480404 │ \"c\" │\n",
       "│ 990  │ 3 │ 0.967371  │ \"c\" │\n",
       "│ 991  │ 4 │ 4.7114    │ \"b\" │\n",
       "│ 992  │ 1 │ 3.02645   │ \"a\" │\n",
       "│ 993  │ 1 │ 1.64394   │ \"c\" │\n",
       "│ 994  │ 1 │ 0.863233  │ \"c\" │\n",
       "│ 995  │ 2 │ 2.92211   │ \"b\" │\n",
       "│ 996  │ 3 │ 4.24782   │ \"b\" │\n",
       "│ 997  │ 3 │ 3.15025   │ \"b\" │\n",
       "│ 998  │ 1 │ 1.41214   │ \"c\" │\n",
       "│ 999  │ 1 │ 1.10358   │ \"c\" │\n",
       "│ 1000 │ 2 │ 2.98203   │ \"a\" │"
      ]
     },
     "execution_count": 35,
     "metadata": {},
     "output_type": "execute_result"
    }
   ],
   "source": [
    "include(\"DC.jl\")\n",
    "df = generate_test_df(1000)"
   ]
  },
  {
   "cell_type": "code",
   "execution_count": 36,
   "metadata": {
    "collapsed": false
   },
   "outputs": [
    {
     "data": {
      "text/html": [
       "<iframe src=\"test.htm\" width=\"975\" height=\"500\"></iframe>"
      ],
      "text/plain": [
       "DCOut(1000x3 DataFrames.DataFrame\n",
       "│ Row  │ a │ b         │ c   │\n",
       "┝━━━━━━┿━━━┿━━━━━━━━━━━┿━━━━━┥\n",
       "│ 1    │ 1 │ 1.08346   │ \"c\" │\n",
       "│ 2    │ 3 │ 2.16142   │ \"a\" │\n",
       "│ 3    │ 4 │ 4.39589   │ \"a\" │\n",
       "│ 4    │ 3 │ 1.50997   │ \"c\" │\n",
       "│ 5    │ 1 │ 2.03952   │ \"a\" │\n",
       "│ 6    │ 1 │ 0.319267  │ \"d\" │\n",
       "│ 7    │ 3 │ 4.73152   │ \"a\" │\n",
       "│ 8    │ 3 │ 2.23873   │ \"a\" │\n",
       "│ 9    │ 1 │ 0.692385  │ \"c\" │\n",
       "│ 10   │ 2 │ 1.25106   │ \"d\" │\n",
       "│ 11   │ 4 │ 2.73349   │ \"a\" │\n",
       "⋮\n",
       "│ 989  │ 1 │ -0.480404 │ \"c\" │\n",
       "│ 990  │ 3 │ 0.967371  │ \"c\" │\n",
       "│ 991  │ 4 │ 4.7114    │ \"b\" │\n",
       "│ 992  │ 1 │ 3.02645   │ \"a\" │\n",
       "│ 993  │ 1 │ 1.64394   │ \"c\" │\n",
       "│ 994  │ 1 │ 0.863233  │ \"c\" │\n",
       "│ 995  │ 2 │ 2.92211   │ \"b\" │\n",
       "│ 996  │ 3 │ 4.24782   │ \"b\" │\n",
       "│ 997  │ 3 │ 3.15025   │ \"b\" │\n",
       "│ 998  │ 1 │ 1.41214   │ \"c\" │\n",
       "│ 999  │ 1 │ 1.10358   │ \"c\" │\n",
       "│ 1000 │ 2 │ 2.98203   │ \"a\" │,[DCChart(\"Chart for a\",1,\"chart_2QG9UX\"),DCChart(\"Chart for b\",2,\"chart_zhaxQ5\"),DCChart(\"Chart for c\",3,\"chart_DTqguc\")])"
      ]
     },
     "execution_count": 36,
     "metadata": {},
     "output_type": "execute_result"
    }
   ],
   "source": [
    "dcout = DCOut(df)"
   ]
  },
  {
   "cell_type": "code",
   "execution_count": null,
   "metadata": {
    "collapsed": true
   },
   "outputs": [],
   "source": []
  }
 ],
 "metadata": {
  "kernelspec": {
   "display_name": "Julia 0.4.5",
   "language": "julia",
   "name": "julia-0.4"
  },
  "language_info": {
   "file_extension": ".jl",
   "mimetype": "application/julia",
   "name": "julia",
   "version": "0.4.5"
  }
 },
 "nbformat": 4,
 "nbformat_minor": 0
}
