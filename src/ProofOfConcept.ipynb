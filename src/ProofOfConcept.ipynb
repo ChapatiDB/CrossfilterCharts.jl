{
 "cells": [
  {
   "cell_type": "code",
   "execution_count": 1,
   "metadata": {
    "collapsed": false
   },
   "outputs": [
    {
     "data": {
      "text/html": [
       "<table class=\"data-frame\"><tr><th></th><th>a</th><th>b</th></tr><tr><th>1</th><td>4</td><td>3.9300365125273</td></tr><tr><th>2</th><td>2</td><td>2.608247634125056</td></tr><tr><th>3</th><td>1</td><td>1.5118205187387785</td></tr><tr><th>4</th><td>2</td><td>1.3071721243810157</td></tr><tr><th>5</th><td>3</td><td>2.7965191562063803</td></tr><tr><th>6</th><td>3</td><td>3.0153762230345356</td></tr><tr><th>7</th><td>3</td><td>3.7296355531834826</td></tr><tr><th>8</th><td>1</td><td>2.092979965331345</td></tr><tr><th>9</th><td>4</td><td>4.188891703083183</td></tr><tr><th>10</th><td>2</td><td>1.809613471890994</td></tr><tr><th>11</th><td>4</td><td>4.157513782258832</td></tr><tr><th>12</th><td>3</td><td>2.4735070296150874</td></tr><tr><th>13</th><td>1</td><td>-0.2889964348378653</td></tr><tr><th>14</th><td>4</td><td>3.749393699020734</td></tr><tr><th>15</th><td>2</td><td>2.202032612316411</td></tr><tr><th>16</th><td>1</td><td>0.6696592457380326</td></tr><tr><th>17</th><td>4</td><td>2.5571447545723966</td></tr><tr><th>18</th><td>4</td><td>4.976684893495708</td></tr><tr><th>19</th><td>3</td><td>2.382207564726726</td></tr><tr><th>20</th><td>2</td><td>3.198388231331803</td></tr><tr><th>21</th><td>4</td><td>3.6795428570052287</td></tr><tr><th>22</th><td>4</td><td>2.564916704025312</td></tr><tr><th>23</th><td>3</td><td>3.105784733680552</td></tr><tr><th>24</th><td>1</td><td>2.5896916651395627</td></tr><tr><th>25</th><td>3</td><td>4.437743242200875</td></tr><tr><th>26</th><td>2</td><td>1.5759345461425063</td></tr><tr><th>27</th><td>2</td><td>0.38217012289226293</td></tr><tr><th>28</th><td>1</td><td>1.5484207554362344</td></tr><tr><th>29</th><td>1</td><td>1.912051333040345</td></tr><tr><th>30</th><td>1</td><td>2.398671284396683</td></tr><tr><th>&vellip;</th><td>&vellip;</td><td>&vellip;</td></tr></table>"
      ],
      "text/plain": [
       "1000x2 DataFrames.DataFrame\n",
       "│ Row  │ a │ b       │\n",
       "┝━━━━━━┿━━━┿━━━━━━━━━┥\n",
       "│ 1    │ 4 │ 3.93004 │\n",
       "│ 2    │ 2 │ 2.60825 │\n",
       "│ 3    │ 1 │ 1.51182 │\n",
       "│ 4    │ 2 │ 1.30717 │\n",
       "│ 5    │ 3 │ 2.79652 │\n",
       "│ 6    │ 3 │ 3.01538 │\n",
       "│ 7    │ 3 │ 3.72964 │\n",
       "│ 8    │ 1 │ 2.09298 │\n",
       "│ 9    │ 4 │ 4.18889 │\n",
       "│ 10   │ 2 │ 1.80961 │\n",
       "│ 11   │ 4 │ 4.15751 │\n",
       "⋮\n",
       "│ 989  │ 2 │ 3.03653 │\n",
       "│ 990  │ 4 │ 3.24887 │\n",
       "│ 991  │ 3 │ 3.1756  │\n",
       "│ 992  │ 1 │ 1.36589 │\n",
       "│ 993  │ 1 │ 1.59144 │\n",
       "│ 994  │ 2 │ 1.09975 │\n",
       "│ 995  │ 3 │ 3.35193 │\n",
       "│ 996  │ 4 │ 4.32912 │\n",
       "│ 997  │ 3 │ 2.54446 │\n",
       "│ 998  │ 4 │ 3.87055 │\n",
       "│ 999  │ 2 │ 3.48553 │\n",
       "│ 1000 │ 3 │ 3.07453 │"
      ]
     },
     "execution_count": 1,
     "metadata": {},
     "output_type": "execute_result"
    }
   ],
   "source": [
    "include(\"DC.jl\")\n",
    "df = generate_test_df(1000)"
   ]
  },
  {
   "cell_type": "code",
   "execution_count": 2,
   "metadata": {
    "collapsed": false
   },
   "outputs": [
    {
     "data": {
      "text/html": [
       "<iframe src=\"test.htm\" width=\"975\" height=\"500\"></iframe>"
      ],
      "text/plain": [
       "DCOut(1000x2 DataFrames.DataFrame\n",
       "│ Row  │ a │ b       │\n",
       "┝━━━━━━┿━━━┿━━━━━━━━━┥\n",
       "│ 1    │ 4 │ 3.93004 │\n",
       "│ 2    │ 2 │ 2.60825 │\n",
       "│ 3    │ 1 │ 1.51182 │\n",
       "│ 4    │ 2 │ 1.30717 │\n",
       "│ 5    │ 3 │ 2.79652 │\n",
       "│ 6    │ 3 │ 3.01538 │\n",
       "│ 7    │ 3 │ 3.72964 │\n",
       "│ 8    │ 1 │ 2.09298 │\n",
       "│ 9    │ 4 │ 4.18889 │\n",
       "│ 10   │ 2 │ 1.80961 │\n",
       "│ 11   │ 4 │ 4.15751 │\n",
       "⋮\n",
       "│ 989  │ 2 │ 3.03653 │\n",
       "│ 990  │ 4 │ 3.24887 │\n",
       "│ 991  │ 3 │ 3.1756  │\n",
       "│ 992  │ 1 │ 1.36589 │\n",
       "│ 993  │ 1 │ 1.59144 │\n",
       "│ 994  │ 2 │ 1.09975 │\n",
       "│ 995  │ 3 │ 3.35193 │\n",
       "│ 996  │ 4 │ 4.32912 │\n",
       "│ 997  │ 3 │ 2.54446 │\n",
       "│ 998  │ 4 │ 3.87055 │\n",
       "│ 999  │ 2 │ 3.48553 │\n",
       "│ 1000 │ 3 │ 3.07453 │,[DCChart(\"Chart for a\",1,\"chart_754255\",\"a_sum\",ChartType(\"barChart\",Attribute[Attribute{Bool}(:centerBar,Nullable{Bool}()),Attribute{Float64}(:gap,Nullable{Float64}())],[ChartType(\"NONE\",Attribute[Attribute{Tuple{Float64,Float64}}(:zoomScale,Nullable{Tuple{Float64,Float64}}()),Attribute{Bool}(:zoomOutRestrict,Nullable{Bool}()),Attribute{Bool}(:mouseZoomable,Nullable{Bool}()),Attribute{ASCIIString}(:x,Nullable(\"d3.scale.linear().domain([1,4])\")),Attribute{ASCIIString}(:xUnits,Nullable(\"dc.units.fp.precision(.0)\")),Attribute{ASCIIString}(:xAxis,Nullable{ASCIIString}()),Attribute{Bool}(:elasticX,Nullable{Bool}()),Attribute{ASCIIString}(:xAxisPadding,Nullable{ASCIIString}()),Attribute{Float64}(:y,Nullable{Float64}()),Attribute{ASCIIString}(:yAxis,Nullable{ASCIIString}()),Attribute{Float64}(:elasticY,Nullable{Float64}()),Attribute{Bool}(:renderHorizontalGridLines,Nullable{Bool}()),Attribute{Bool}(:renderVerticalGridLines,Nullable{Bool}()),Attribute{Union{ASCIIString,Int64}}(:yAxisPadding,Nullable{Union{ASCIIString,Int64}}()),Attribute{ASCIIString}(:round,Nullable{ASCIIString}())],[ChartType(\"NONE\",Attribute[Attribute{Float64}(:width,Nullable(250.0)),Attribute{Float64}(:height,Nullable(200.0))],ChartType[]),ChartType(\"NONE\",Attribute[Attribute{ASCIIString}(:colors,Nullable{ASCIIString}()),Attribute{ASCIIString}(:colorAccessor,Nullable{ASCIIString}()),Attribute{Int64}(:colorDomain,Nullable{Int64}())],ChartType[])])])),DCChart(\"Chart for b\",2,\"chart_538674\",\"b_sum\",ChartType(\"barChart\",Attribute[Attribute{Bool}(:centerBar,Nullable(true)),Attribute{Float64}(:gap,Nullable{Float64}())],[ChartType(\"NONE\",Attribute[Attribute{Tuple{Float64,Float64}}(:zoomScale,Nullable{Tuple{Float64,Float64}}()),Attribute{Bool}(:zoomOutRestrict,Nullable{Bool}()),Attribute{Bool}(:mouseZoomable,Nullable{Bool}()),Attribute{ASCIIString}(:x,Nullable(\"d3.scale.linear().domain([-3,8])\")),Attribute{ASCIIString}(:xUnits,Nullable(\"dc.units.fp.precision(.5)\")),Attribute{ASCIIString}(:xAxis,Nullable{ASCIIString}()),Attribute{Bool}(:elasticX,Nullable{Bool}()),Attribute{ASCIIString}(:xAxisPadding,Nullable{ASCIIString}()),Attribute{Float64}(:y,Nullable{Float64}()),Attribute{ASCIIString}(:yAxis,Nullable{ASCIIString}()),Attribute{Float64}(:elasticY,Nullable{Float64}()),Attribute{Bool}(:renderHorizontalGridLines,Nullable{Bool}()),Attribute{Bool}(:renderVerticalGridLines,Nullable{Bool}()),Attribute{Union{ASCIIString,Int64}}(:yAxisPadding,Nullable{Union{ASCIIString,Int64}}()),Attribute{ASCIIString}(:round,Nullable{ASCIIString}())],[ChartType(\"NONE\",Attribute[Attribute{Float64}(:width,Nullable(250.0)),Attribute{Float64}(:height,Nullable(200.0))],ChartType[]),ChartType(\"NONE\",Attribute[Attribute{ASCIIString}(:colors,Nullable{ASCIIString}()),Attribute{ASCIIString}(:colorAccessor,Nullable{ASCIIString}()),Attribute{Int64}(:colorDomain,Nullable{Int64}())],ChartType[])])]))])"
      ]
     },
     "execution_count": 2,
     "metadata": {},
     "output_type": "execute_result"
    }
   ],
   "source": [
    "dcout = DCOut(df)"
   ]
  },
  {
   "cell_type": "code",
   "execution_count": null,
   "metadata": {
    "collapsed": true
   },
   "outputs": [],
   "source": []
  }
 ],
 "metadata": {
  "kernelspec": {
   "display_name": "Julia 0.4.5",
   "language": "julia",
   "name": "julia-0.4"
  },
  "language_info": {
   "file_extension": ".jl",
   "mimetype": "application/julia",
   "name": "julia",
   "version": "0.4.5"
  }
 },
 "nbformat": 4,
 "nbformat_minor": 0
}
