{
 "cells": [
  {
   "cell_type": "code",
   "execution_count": 1,
   "metadata": {
    "collapsed": false
   },
   "outputs": [],
   "source": [
    "using RDatasets\n",
    "iris = dataset(\"datasets\", \"iris\");"
   ]
  },
  {
   "cell_type": "code",
   "execution_count": 2,
   "metadata": {
    "collapsed": false
   },
   "outputs": [
    {
     "name": "stderr",
     "output_type": "stream",
     "text": [
      "INFO: Recompiling stale cache file /home/tim/.julia/lib/v0.4/DC.ji for module DC.\n"
     ]
    },
    {
     "data": {
      "text/html": [
       "<iframe src=\"http://raw.githubusercontent.com/tawheeler/DC.jl/master/docs/dc900966.htm\" width=\"975\" height=\"550\"></iframe>"
      ],
      "text/plain": [
       "DC.DCOut(150×5 DataFrames.DataFrame\n",
       "│ Row │ SepalLength │ SepalWidth │ PetalLength │ PetalWidth │ Species     │\n",
       "├─────┼─────────────┼────────────┼─────────────┼────────────┼─────────────┤\n",
       "│ 1   │ 5.1         │ 3.5        │ 1.4         │ 0.2        │ \"setosa\"    │\n",
       "│ 2   │ 4.9         │ 3.0        │ 1.4         │ 0.2        │ \"setosa\"    │\n",
       "│ 3   │ 4.7         │ 3.2        │ 1.3         │ 0.2        │ \"setosa\"    │\n",
       "│ 4   │ 4.6         │ 3.1        │ 1.5         │ 0.2        │ \"setosa\"    │\n",
       "│ 5   │ 5.0         │ 3.6        │ 1.4         │ 0.2        │ \"setosa\"    │\n",
       "│ 6   │ 5.4         │ 3.9        │ 1.7         │ 0.4        │ \"setosa\"    │\n",
       "│ 7   │ 4.6         │ 3.4        │ 1.4         │ 0.3        │ \"setosa\"    │\n",
       "│ 8   │ 5.0         │ 3.4        │ 1.5         │ 0.2        │ \"setosa\"    │\n",
       "│ 9   │ 4.4         │ 2.9        │ 1.4         │ 0.2        │ \"setosa\"    │\n",
       "│ 10  │ 4.9         │ 3.1        │ 1.5         │ 0.1        │ \"setosa\"    │\n",
       "│ 11  │ 5.4         │ 3.7        │ 1.5         │ 0.2        │ \"setosa\"    │\n",
       "⋮\n",
       "│ 139 │ 6.0         │ 3.0        │ 4.8         │ 1.8        │ \"virginica\" │\n",
       "│ 140 │ 6.9         │ 3.1        │ 5.4         │ 2.1        │ \"virginica\" │\n",
       "│ 141 │ 6.7         │ 3.1        │ 5.6         │ 2.4        │ \"virginica\" │\n",
       "│ 142 │ 6.9         │ 3.1        │ 5.1         │ 2.3        │ \"virginica\" │\n",
       "│ 143 │ 5.8         │ 2.7        │ 5.1         │ 1.9        │ \"virginica\" │\n",
       "│ 144 │ 6.8         │ 3.2        │ 5.9         │ 2.3        │ \"virginica\" │\n",
       "│ 145 │ 6.7         │ 3.3        │ 5.7         │ 2.5        │ \"virginica\" │\n",
       "│ 146 │ 6.7         │ 3.0        │ 5.2         │ 2.3        │ \"virginica\" │\n",
       "│ 147 │ 6.3         │ 2.5        │ 5.0         │ 1.9        │ \"virginica\" │\n",
       "│ 148 │ 6.5         │ 3.0        │ 5.2         │ 2.0        │ \"virginica\" │\n",
       "│ 149 │ 6.2         │ 3.4        │ 5.4         │ 2.3        │ \"virginica\" │\n",
       "│ 150 │ 5.9         │ 3.0        │ 5.1         │ 1.8        │ \"virginica\" │,[DC.Dimension(:SepalLength,\"function(d){return Math.round(d.SepalLength * 2)/2; }\"),DC.Dimension(:SepalWidth,\"function(d){return Math.round(d.SepalWidth * 2)/2; }\"),DC.Dimension(:PetalLength,\"function(d){return Math.round(d.PetalLength * 2)/2; }\"),DC.Dimension(:PetalWidth,\"function(d){return Math.round(d.PetalWidth * 2)/2; }\"),DC.Dimension(:Species,\"function(d){return d.Species; }\")],[DC.Group(DC.Dimension(:SepalLength,\"function(d){return Math.round(d.SepalLength * 2)/2; }\"),\"SepalLength_sum\",\"reduceSum(function(d){ return d.SepalLength; })\"),DC.Group(DC.Dimension(:SepalWidth,\"function(d){return Math.round(d.SepalWidth * 2)/2; }\"),\"SepalWidth_sum\",\"reduceSum(function(d){ return d.SepalWidth; })\"),DC.Group(DC.Dimension(:PetalLength,\"function(d){return Math.round(d.PetalLength * 2)/2; }\"),\"PetalLength_sum\",\"reduceSum(function(d){ return d.PetalLength; })\"),DC.Group(DC.Dimension(:PetalWidth,\"function(d){return Math.round(d.PetalWidth * 2)/2; }\"),\"PetalWidth_sum\",\"reduceSum(function(d){ return d.PetalWidth; })\"),DC.Group(DC.Dimension(:Species,\"function(d){return d.Species; }\"),\"Species_count\",\"reduceCount()\")],[DC.DCChart(DC.Group(DC.Dimension(:SepalLength,\"function(d){return Math.round(d.SepalLength * 2)/2; }\"),\"SepalLength_sum\",\"reduceSum(function(d){ return d.SepalLength; })\"),DC.ChartType(\"barChart\",[DC.Attribute(:centerBar,\"true\"),DC.Attribute(:gap,\"\")],[DC.ChartType(\"NONE\",[DC.Attribute(:zoomScale,\"\"),DC.Attribute(:zoomOutRestrict,\"\"),DC.Attribute(:mouseZoomable,\"\"),DC.Attribute(:x,\"d3.scale.linear().domain([4,8])\"),DC.Attribute(:xUnits,\"dc.units.fp.precision(.5)\"),DC.Attribute(:xAxis,\"\"),DC.Attribute(:elasticX,\"\"),DC.Attribute(:xAxisPadding,\"\"),DC.Attribute(:y,\"\"),DC.Attribute(:yAxis,\"\"),DC.Attribute(:elasticY,\"\"),DC.Attribute(:renderHorizontalGridLines,\"\"),DC.Attribute(:renderVerticalGridLines,\"\"),DC.Attribute(:yAxisPadding,\"\"),DC.Attribute(:round,\"\")],[DC.ChartType(\"NONE\",[DC.Attribute(:width,\"250.0\"),DC.Attribute(:height,\"200.0\")],DC.ChartType[]),DC.ChartType(\"NONE\",[DC.Attribute(:colors,\"\"),DC.Attribute(:colorAccessor,\"\"),DC.Attribute(:colorDomain,\"\")],DC.ChartType[])])]),\"Chart for SepalLength\",\"chart_611134\"),DC.DCChart(DC.Group(DC.Dimension(:SepalWidth,\"function(d){return Math.round(d.SepalWidth * 2)/2; }\"),\"SepalWidth_sum\",\"reduceSum(function(d){ return d.SepalWidth; })\"),DC.ChartType(\"barChart\",[DC.Attribute(:centerBar,\"true\"),DC.Attribute(:gap,\"\")],[DC.ChartType(\"NONE\",[DC.Attribute(:zoomScale,\"\"),DC.Attribute(:zoomOutRestrict,\"\"),DC.Attribute(:mouseZoomable,\"\"),DC.Attribute(:x,\"d3.scale.linear().domain([2,5])\"),DC.Attribute(:xUnits,\"dc.units.fp.precision(.5)\"),DC.Attribute(:xAxis,\"\"),DC.Attribute(:elasticX,\"\"),DC.Attribute(:xAxisPadding,\"\"),DC.Attribute(:y,\"\"),DC.Attribute(:yAxis,\"\"),DC.Attribute(:elasticY,\"\"),DC.Attribute(:renderHorizontalGridLines,\"\"),DC.Attribute(:renderVerticalGridLines,\"\"),DC.Attribute(:yAxisPadding,\"\"),DC.Attribute(:round,\"\")],[DC.ChartType(\"NONE\",[DC.Attribute(:width,\"250.0\"),DC.Attribute(:height,\"200.0\")],DC.ChartType[]),DC.ChartType(\"NONE\",[DC.Attribute(:colors,\"\"),DC.Attribute(:colorAccessor,\"\"),DC.Attribute(:colorDomain,\"\")],DC.ChartType[])])]),\"Chart for SepalWidth\",\"chart_831331\"),DC.DCChart(DC.Group(DC.Dimension(:PetalLength,\"function(d){return Math.round(d.PetalLength * 2)/2; }\"),\"PetalLength_sum\",\"reduceSum(function(d){ return d.PetalLength; })\"),DC.ChartType(\"barChart\",[DC.Attribute(:centerBar,\"true\"),DC.Attribute(:gap,\"\")],[DC.ChartType(\"NONE\",[DC.Attribute(:zoomScale,\"\"),DC.Attribute(:zoomOutRestrict,\"\"),DC.Attribute(:mouseZoomable,\"\"),DC.Attribute(:x,\"d3.scale.linear().domain([1,7])\"),DC.Attribute(:xUnits,\"dc.units.fp.precision(.5)\"),DC.Attribute(:xAxis,\"\"),DC.Attribute(:elasticX,\"\"),DC.Attribute(:xAxisPadding,\"\"),DC.Attribute(:y,\"\"),DC.Attribute(:yAxis,\"\"),DC.Attribute(:elasticY,\"\"),DC.Attribute(:renderHorizontalGridLines,\"\"),DC.Attribute(:renderVerticalGridLines,\"\"),DC.Attribute(:yAxisPadding,\"\"),DC.Attribute(:round,\"\")],[DC.ChartType(\"NONE\",[DC.Attribute(:width,\"250.0\"),DC.Attribute(:height,\"200.0\")],DC.ChartType[]),DC.ChartType(\"NONE\",[DC.Attribute(:colors,\"\"),DC.Attribute(:colorAccessor,\"\"),DC.Attribute(:colorDomain,\"\")],DC.ChartType[])])]),\"Chart for PetalLength\",\"chart_274208\"),DC.DCChart(DC.Group(DC.Dimension(:PetalWidth,\"function(d){return Math.round(d.PetalWidth * 2)/2; }\"),\"PetalWidth_sum\",\"reduceSum(function(d){ return d.PetalWidth; })\"),DC.ChartType(\"barChart\",[DC.Attribute(:centerBar,\"true\"),DC.Attribute(:gap,\"\")],[DC.ChartType(\"NONE\",[DC.Attribute(:zoomScale,\"\"),DC.Attribute(:zoomOutRestrict,\"\"),DC.Attribute(:mouseZoomable,\"\"),DC.Attribute(:x,\"d3.scale.linear().domain([0,3])\"),DC.Attribute(:xUnits,\"dc.units.fp.precision(.5)\"),DC.Attribute(:xAxis,\"\"),DC.Attribute(:elasticX,\"\"),DC.Attribute(:xAxisPadding,\"\"),DC.Attribute(:y,\"\"),DC.Attribute(:yAxis,\"\"),DC.Attribute(:elasticY,\"\"),DC.Attribute(:renderHorizontalGridLines,\"\"),DC.Attribute(:renderVerticalGridLines,\"\"),DC.Attribute(:yAxisPadding,\"\"),DC.Attribute(:round,\"\")],[DC.ChartType(\"NONE\",[DC.Attribute(:width,\"250.0\"),DC.Attribute(:height,\"200.0\")],DC.ChartType[]),DC.ChartType(\"NONE\",[DC.Attribute(:colors,\"\"),DC.Attribute(:colorAccessor,\"\"),DC.Attribute(:colorDomain,\"\")],DC.ChartType[])])]),\"Chart for PetalWidth\",\"chart_013110\"),DC.DCChart(DC.Group(DC.Dimension(:Species,\"function(d){return d.Species; }\"),\"Species_count\",\"reduceCount()\"),DC.ChartType(\"pieChart\",[DC.Attribute(:slicesCap,\"\"),DC.Attribute(:innerRadius,\"\"),DC.Attribute(:radius,\"\"),DC.Attribute(:cx,\"\"),DC.Attribute(:cy,\"\"),DC.Attribute(:minAngleForLabel,\"\")],[DC.ChartType(\"NONE\",[DC.Attribute(:colors,\"\"),DC.Attribute(:colorAccessor,\"\"),DC.Attribute(:colorDomain,\"\")],DC.ChartType[]),DC.ChartType(\"NONE\",[DC.Attribute(:width,\"250.0\"),DC.Attribute(:height,\"200.0\")],DC.ChartType[])]),\"Chart for Species\",\"chart_776836\")])"
      ]
     },
     "execution_count": 2,
     "metadata": {},
     "output_type": "execute_result"
    }
   ],
   "source": [
    "using DC\n",
    "dc(iris)"
   ]
  },
  {
   "cell_type": "code",
   "execution_count": null,
   "metadata": {
    "collapsed": false
   },
   "outputs": [],
   "source": []
  },
  {
   "cell_type": "code",
   "execution_count": null,
   "metadata": {
    "collapsed": true
   },
   "outputs": [],
   "source": []
  }
 ],
 "metadata": {
  "kernelspec": {
   "display_name": "Julia 0.4.5",
   "language": "julia",
   "name": "julia-0.4"
  },
  "language_info": {
   "file_extension": ".jl",
   "mimetype": "application/julia",
   "name": "julia",
   "version": "0.4.5"
  }
 },
 "nbformat": 4,
 "nbformat_minor": 0
}
